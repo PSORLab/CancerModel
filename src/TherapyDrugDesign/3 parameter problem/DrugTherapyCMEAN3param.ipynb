{
 "cells": [
  {
   "cell_type": "code",
   "execution_count": 1,
   "id": "747592dc",
   "metadata": {},
   "outputs": [],
   "source": [
    "using Surrogates,Flux,Statistics,DifferentialEquations,Plots,Suppressor,MLDataUtils"
   ]
  },
  {
   "cell_type": "code",
   "execution_count": 2,
   "id": "dca9b65c",
   "metadata": {},
   "outputs": [
    {
     "data": {
      "text/plain": [
       "3-element Vector{Float32}:\n",
       "  5.0f-6\n",
       "  5.0f-6\n",
       " 30.0"
      ]
     },
     "execution_count": 2,
     "metadata": {},
     "output_type": "execute_result"
    }
   ],
   "source": [
    "lb=Float32[5e-7,5e-7,5]\n",
    "ub=Float32[5e-6,5e-6,30]"
   ]
  },
  {
   "cell_type": "code",
   "execution_count": 3,
   "id": "793134d2",
   "metadata": {},
   "outputs": [
    {
     "data": {
      "text/plain": [
       "inv_output_scaler (generic function with 1 method)"
      ]
     },
     "execution_count": 3,
     "metadata": {},
     "output_type": "execute_result"
    }
   ],
   "source": [
    "#Define scaler functions to preprocess data\n",
    "vecscaler(x)=(x.-lb)./(ub.-lb)\n",
    "scaler(x)= ((x[1]- lb[1])/(ub[1]-lb[1]),(x[2]- lb[2])/(ub[2]-lb[2]),(x[3]- lb[3])/(ub[3]-lb[3]))\n",
    "invscaler(x_sc)=(x_sc[1]*(ub[1]-lb[1]) + lb[1],x_sc[2]*(ub[2]-lb[2]) + lb[2],x_sc[3]*(ub[3]-lb[3]) + lb[3])\n",
    "output_scaler(x)= x ./ .6\n",
    "inv_output_scaler(x)=x.*.6"
   ]
  },
  {
   "cell_type": "code",
   "execution_count": 4,
   "id": "a586fdb5",
   "metadata": {},
   "outputs": [
    {
     "data": {
      "text/plain": [
       "accum (generic function with 1 method)"
      ]
     },
     "execution_count": 4,
     "metadata": {},
     "output_type": "execute_result"
    }
   ],
   "source": [
    "function Diffusion(rs)\n",
    "    Diam_parc = 2*rs\n",
    "    return D = 1.981e-06*Diam_parc^(-1.157) + 2.221e-08\n",
    "end\n",
    "\n",
    "function Blood_half_life(rs)\n",
    "    Diam_parc = 2*rs\n",
    "    a1 = 1081\n",
    "    b1 = -16.63\n",
    "    c1 = 84.82\n",
    "    a2 = 517.4\n",
    "    b2 = 65.61\n",
    "    c2 = 996.6\n",
    "    return kd = (a1*exp(-((Diam_parc-b1)/c1)^2) + a2*exp(-((Diam_parc-b2)/c2)^2))*60\n",
    "end\n",
    "function Isolated_Pressure(N,R,Lpt,Svt,Kt,Pvv)\n",
    "\n",
    "    # Pressure Profile\n",
    "    att = R*sqrt(Lpt*Svt/Kt)\n",
    "\n",
    "    r = range(0,step = R/(N-1),length = N)\n",
    "    r = r/R\n",
    "    dr = 1.0/(N-1)\n",
    "    ivdr2 = 1.0./dr^2\n",
    "    att2 = att^2\n",
    "    A = zeros(typeof(Lpt),N,N)\n",
    "    F = zeros(typeof(Lpt),N,1)\n",
    "\n",
    "    M = N\n",
    "    for i in 2:M-1\n",
    "        A[i,i-1] = -1.0/r[i]/dr + ivdr2\n",
    "        A[i,i] = -2.0*ivdr2 - (att2)\n",
    "        A[i,i+1] = 1.0/r[i]/dr + ivdr2\n",
    "        F[i] = -(att2)*Pvv\n",
    "    end\n",
    "\n",
    "    # Boundary condtions for isolated tumor model\n",
    "    A[1,1] = -2.0/dr^2 - (att^2)\n",
    "    A[1,2] = 2.0/dr^2\n",
    "    F[1] = -att2*Pvv\n",
    "    A[N,N] = 1.0\n",
    "\n",
    "    # Solution of linear problem for pressure distribution\n",
    "    P = A\\F\n",
    "    return P\n",
    "end\n",
    "\n",
    "function Peclet(rs,N,R,Lpt,Svt,Kt,Pv,Pvv)\n",
    "    P = Isolated_Pressure(N,R,Lpt,Svt,Kt,Pvv)\n",
    "    Perm,sigma = solutePerm(Lpt,rs)\n",
    "    return Pe_set = Lpt .* Pv .* (Pvv.*ones(N) - P) .* (1 - sigma) ./ Perm\n",
    "end\n",
    "\n",
    "function MST_Form(t, c, P, N, sigma, Perm, Lpt, Svt, Kt, Pvv, Pv, D, r, dr, kd)\n",
    "    co = 1.0 # dimensionless drug concentration\n",
    "    tspan = 300.0 # length of simulation type\n",
    "\n",
    "    f = zeros(typeof(sigma), N)\n",
    "\n",
    "    cv = co * exp(-t / kd)  # vascular concentration of the drug following exponential decay\n",
    "\n",
    "    coeff1 = 2.0 * D / dr\n",
    "    coeff2 = D / dr^2\n",
    "\n",
    "    f[1] = 2.0*D*(c[2]-c[1])/dr^2 +\n",
    "    Lpt*Svt*Pv*(Pvv-P[1])*(1-sigma)*cv\n",
    "\n",
    "    #=\n",
    "    Pe = Lpt * Pv * (Pvv - P[1]) * (1 - sigma) / Perm\n",
    "    f[1] = 2 * D * (c[2] - c[1]) / dr^2 +\n",
    "        Lpt * Svt * Pv * (Pvv - P[1]) * (1 - sigma) * cv +\n",
    "        Perm * Svt * (cv - c[1]) * Pe / (exp(Pe) - 1.0)\n",
    "    =#\n",
    "    for j = 2:N-1\n",
    "        f[j] = (coeff1/r[j])*(c[j+1]-c[j]) + coeff2*(c[j+1]-2.0*c[j]+c[j-1]) +\n",
    "        Kt/(2*dr)*(P[j+1]-P[j-1])*((c[j+1]-c[j])/dr) +\n",
    "        Lpt*Svt*Pv*(Pvv-P[j])*(1-sigma)*cv\n",
    "\n",
    "        #=\n",
    "        Pe = Lpt * Pv * (Pvv - P[j]) * (1 - sigma) / Perm\n",
    "        f[j] = ((2 * D / r[j]) * ((c[j+1] - c[j]) / dr)) +\n",
    "            (D * (c[j+1] - 2 * c[j] + c[j-1]) / dr^2) +\n",
    "            Kt * ((P[j+1] - P[j-1]) / (2 * dr)) * ((c[j+1] - c[j]) / dr) +\n",
    "            Lpt * Svt * Pv * (Pvv - P[j]) * (1 - sigma) * cv +\n",
    "            Perm * Svt * (cv - c[j]) * Pe / (exp(Pe) - 1.0)\n",
    "        =#\n",
    "    end\n",
    "\n",
    "    f[N] = 0.0\n",
    "    return f\n",
    "end\n",
    "\n",
    "function EE_Form(x0,y0,h,n_out,i_out,P,N,sigma,Perm,Lpt,Svt,Kt,Pvv,Pv,D,r,dr,kd)\n",
    "      xout = zeros(Float64,n_out+1)\n",
    "      yout = zeros(typeof(sigma),n_out+1,length(y0))\n",
    "      xout[1] = x0\n",
    "      yout[1,:] = y0\n",
    "      x = x0\n",
    "      y = y0\n",
    "      for j = 2:n_out+1\n",
    "          for k = 1:i_out\n",
    "              y = y + h*MST_Form(x,y,P,N,sigma,Perm,Lpt,Svt,Kt,Pvv,Pv,D,r,dr,kd)\n",
    "              x = x + h\n",
    "          end\n",
    "          xout[j] = x\n",
    "          yout[j,:] = y\n",
    "      end\n",
    "      return xout, yout\n",
    "end\n",
    "\n",
    "\n",
    "function Isolated_Model_Form(N,Kt,Lpt,Svt,R,Pv,Pvv,n_nodes,rs)\n",
    "\n",
    "    #r = Vector(linspace(0,R,N))\n",
    "    r = range(0,step = R/(N-1),length = N)\n",
    "    r = r/R\n",
    "    dr = 1.0/(N-1)\n",
    "\n",
    "    # Solution of steady state pressure model\n",
    "    P = Isolated_Pressure(N,R,Lpt,Svt,Kt,Pvv)\n",
    "    Perm,sigma = solutePerm(Lpt,rs)\n",
    "    D = Diffusion(rs)\n",
    "    kd = Blood_half_life(rs)\n",
    "\n",
    "    # Initial solute concentration\n",
    "    c_0 = zeros(typeof(rs),N)\n",
    "\n",
    "    t0 = 0.0\n",
    "    tf = 300.0 # length of simulation (seconds)\n",
    "    n_out = n_nodes - 1\n",
    "    h = (tf - t0)/n_out;\n",
    "    i_out = 1\n",
    "\n",
    "    time, c = EE_Form(t0,c_0,h,n_out,i_out,P,N,sigma,Perm,Lpt,Svt,Kt,Pvv,Pv,D,r,dr,kd)\n",
    "    return time, c\n",
    "end\n",
    "\n",
    "function solutePerm(Lpt,rs)\n",
    "    # calculate diffusion coefficient from Stoke's Einstein\n",
    "    kB = 1.380648*10.0^(-23)               # Boltzmann Constant (J/K)\n",
    "    Temp = 310.15                           # Temperature K\n",
    "    eta = 3*10.0^(-5)                      # viscosity of blood (mmHg-sec)\n",
    "    conv_mu  = 133.322365                # (Pascal/mmHg)\n",
    "    etac = eta*conv_mu                   # Pascal-sec\n",
    "    pore_conv = 10.0^(-9)                  # (m/nm)\n",
    "    r_partc = rs*pore_conv               # radius (m)\n",
    "    D0 = kB*Temp/(6*pi*etac*r_partc)*1.0e4;   # Diffusivity (cm^2/s)\n",
    "\n",
    "    # Bungay and Brenner\n",
    "    a = [-73/60,77293/50400,-22.5083,-5.6117,-0.3363,-1.216,1.647]\n",
    "    b = [7/60;-2227/50400;4.0180;-3.9788;-1.9215;4.392;5.006]\n",
    "\n",
    "    # Calculate the pore size\n",
    "    gamma = 1.0e-3\n",
    "    eta = 3.0e-5                              # Blood viscosity (mmHg/s)\n",
    "    L = 5.0e-4                                # Vessel wall thickness (cm)\n",
    "    r_pore::typeof(rs) = sqrt(8*eta*L*Lpt/gamma)*1.0e7    # nm\n",
    "    # rs = 30;                              # solute radius (nm) 30nm for FITC\n",
    "    lambda = rs/r_pore\n",
    "    t1 = zero(typeof(rs))\n",
    "    t2 = zero(typeof(rs))\n",
    "    p1 = zero(typeof(rs))\n",
    "    p2 = zero(typeof(rs))\n",
    "    for i = 1:7\n",
    "        if i<3\n",
    "            t1 = t1 + a[i]*(1-lambda)^i\n",
    "            p1 = p1 + b[i]*(1-lambda)^i\n",
    "        else\n",
    "            t2 = t2 + a[i]*lambda^(i-3)\n",
    "            p2 = p2 + b[i]*lambda^(i-3)\n",
    "        end\n",
    "    end\n",
    "    Kt = t2 + 9.0/4.0*pi^2*sqrt(2.0)*(1.0+t1)*sqrt(1.0-lambda)^(-5)\n",
    "    Ks = p2 + 9.0/4.0*pi^2*sqrt(2.0)*(1.0+p1)*sqrt(1.0-lambda)^(-5)\n",
    "    Phi = (1.0-lambda)^2\n",
    "    H = 6.0*pi*Phi/Kt\n",
    "    W = Phi*(2.0-Phi)*Ks/(2.0*Kt)\n",
    "    Perm = gamma*H*D0/L\n",
    "    sigma = 1.0 - W\n",
    "    return Perm,sigma\n",
    "end\n",
    "\n",
    "N = 100\n",
    "n_nodes = 21\n",
    "\n",
    "Svt = 200.0                # tumor vascular density\n",
    "R = 1.0                    # tumor radius (cm)\n",
    "Pv = 25.0                  # vascular pressure (mmHg)\n",
    "Pvv = 1.0                  # vascu\n",
    "PA=N,Svt,R,Pv,Pvv,n_nodes\n",
    "function cmean_inter(x,param)\n",
    "    Lpt,Kt,rs=x\n",
    "    N,Svt,R,Pv,Pvv,n_nodes=param\n",
    "    tout,cout = Isolated_Model_Form(N,Kt,Lpt,Svt,R,Pv,Pvv,n_nodes,rs)\n",
    "    cf = cout[convert(Int,round(n_nodes)),:]\n",
    "    cf_avg = mean(cf)\n",
    "    return cf_avg\n",
    "end\n",
    "\n",
    "cmean(x)=cmean_inter(x,PA)\n",
    "accum(x) =output_scaler(cmean(invscaler(x)))"
   ]
  },
  {
   "cell_type": "code",
   "execution_count": 5,
   "id": "623627ab",
   "metadata": {},
   "outputs": [],
   "source": [
    "#Specify number of samples to generate and perform 70:30 split for data generation\n",
    "n_samp=Int64(1e6);\n",
    "n_train =Int64(n_samp*.7);\n",
    "n_test = Int64(n_samp*.3);"
   ]
  },
  {
   "cell_type": "code",
   "execution_count": 6,
   "id": "6114e91b",
   "metadata": {},
   "outputs": [],
   "source": [
    "#Create Data Sets\n",
    "X=Float32.(reshape([x[j] for x in scaler.(sample(n_samp, lb,ub, SobolSample())) for j in eachindex(x)],(3,n_samp)));\n",
    "Y=reshape([Float32.(y[j]) for y in [accum(col) for col in eachcol(X)] for j in eachindex(y)],(1,n_samp));"
   ]
  },
  {
   "cell_type": "code",
   "execution_count": 7,
   "id": "d0c18aef",
   "metadata": {},
   "outputs": [],
   "source": [
    "#Shuffle and Split data;\n",
    "Xs,Ys=shuffleobs((X, Y));\n",
    "(x_train, y_train), (x_test, y_test) = splitobs((Xs, Ys); at = 0.7);\n",
    "#package data\n",
    "using Flux.Data: DataLoader\n",
    "bsize = n_train ÷ 10\n",
    "data_mb = DataLoader((x_train,y_train),batchsize=bsize,shuffle=true);\n",
    "data = DataLoader((x_train,y_train));"
   ]
  },
  {
   "cell_type": "code",
   "execution_count": 8,
   "id": "197754d7",
   "metadata": {},
   "outputs": [],
   "source": [
    "#Specify Neural Network Structure\n",
    "n=12\n",
    "activation_func=Flux.tanh\n",
    "NN_mean = Chain(Dense(3,n),Dense(n,n,activation_func),Dense(n,n,activation_func),Dense(n,1))\n",
    "loss(x,y) = Flux.mse(NN_mean(x),y)\n",
    "learning_rate = 1e-4\n",
    "optimizer = ADAM(learning_rate)\n",
    "n_epochs = 50;\n",
    "ps = Flux.params(NN_mean);\n",
    "ϵ=1e-7;"
   ]
  },
  {
   "cell_type": "code",
   "execution_count": 9,
   "id": "06d4741c",
   "metadata": {},
   "outputs": [
    {
     "name": "stdout",
     "output_type": "stream",
     "text": [
      "loss(x_train, y_train) = 1.2259053f-6\n",
      "i = 1\n",
      "l = 1.9864349f-6\n",
      "i = 2\n",
      "l = 9.1825024f-7\n",
      "i = 3\n",
      "l = 8.540105f-7\n",
      "i = 4\n",
      "l = 8.1728297f-7\n",
      "i = 5\n",
      "l = 7.818368f-7\n",
      "i = 6\n",
      "l = 7.7488966f-7\n",
      "i = 7\n",
      "l = 7.6915086f-7\n",
      "i = 8\n",
      "l = 7.666592f-7\n",
      "i = 9\n",
      "l = 7.6431803f-7\n",
      "i = 10\n",
      "l = 7.6295936f-7\n",
      "i = 11\n",
      "l = 7.618693f-7\n",
      "i = 12\n",
      "l = 7.6105323f-7\n",
      "i = 13\n",
      "l = 7.6034974f-7\n",
      "i = 14\n",
      "l = 7.59786f-7\n",
      "i = 15\n",
      "l = 7.5931763f-7\n",
      "i = 16\n",
      "l = 7.589286f-7\n",
      "i = 17\n",
      "l = 7.586135f-7\n",
      "i = 18\n",
      "l = 7.583107f-7\n",
      "i = 19\n",
      "l = 7.580621f-7\n",
      "i = 20\n",
      "l = 7.5783885f-7\n",
      "i = 21\n",
      "l = 7.576416f-7\n",
      "i = 22\n",
      "l = 7.5748335f-7\n",
      "i = 23\n",
      "l = 7.5731833f-7\n",
      "i = 24\n",
      "l = 7.571377f-7\n",
      "i = 25\n",
      "l = 7.5699535f-7\n",
      "i = 26\n",
      "l = 7.568533f-7\n",
      "i = 27\n",
      "l = 7.567169f-7\n",
      "i = 28\n",
      "l = 7.566115f-7\n",
      "i = 29\n",
      "l = 7.5646165f-7\n",
      "i = 30\n",
      "l = 7.5634904f-7\n",
      "i = 31\n",
      "l = 7.5623325f-7\n",
      "i = 32\n",
      "l = 7.5611f-7\n",
      "i = 33\n",
      "l = 7.560065f-7\n",
      "i = 34\n",
      "l = 7.558928f-7\n",
      "i = 35\n",
      "l = 7.5577776f-7\n",
      "i = 36\n",
      "l = 7.5567056f-7\n",
      "i = 37\n",
      "l = 7.5558273f-7\n",
      "i = 38\n",
      "l = 7.554691f-7\n",
      "i = 39\n",
      "l = 7.553704f-7\n",
      "i = 40\n",
      "l = 7.5526475f-7\n",
      "i = 41\n",
      "l = 7.551633f-7\n",
      "i = 42\n",
      "l = 7.5507785f-7\n",
      "i = 43\n",
      "l = 7.549811f-7\n",
      "i = 44\n",
      "l = 7.548595f-7\n",
      "i = 45\n",
      "l = 7.5476925f-7\n",
      "i = 46\n",
      "l = 7.546656f-7\n",
      "i = 47\n",
      "l = 7.54603f-7\n",
      "i = 48\n",
      "l = 7.544794f-7\n",
      "i = 49\n",
      "l = 7.5443506f-7\n",
      "i = 50\n",
      "l = 7.5429404f-7\n"
     ]
    }
   ],
   "source": [
    "Flux.train!(loss, ps, data, optimizer)\n",
    "Flux.train!(loss, ps, data, optimizer)\n",
    "@show loss(x_train,y_train)\n",
    "\n",
    "for i=1:n_epochs\n",
    "    Flux.train!(loss, ps, data_mb, optimizer)\n",
    "    #Flux.train!(loss, ps, data, optimizer)\n",
    "    l=loss(x_train,y_train)\n",
    "    #epoch_l[i]=l\n",
    "    @show(i,l)\n",
    "    if l < ϵ\n",
    "        break\n",
    "    end\n",
    "end"
   ]
  },
  {
   "cell_type": "code",
   "execution_count": 10,
   "id": "32610e88",
   "metadata": {},
   "outputs": [
    {
     "name": "stdout",
     "output_type": "stream",
     "text": [
      "loss(x_test, y_test) = 7.550012f-7\n"
     ]
    },
    {
     "data": {
      "text/plain": [
       "7.550012f-7"
      ]
     },
     "execution_count": 10,
     "metadata": {},
     "output_type": "execute_result"
    }
   ],
   "source": [
    "@show loss(x_test,y_test)"
   ]
  },
  {
   "cell_type": "code",
   "execution_count": null,
   "id": "a4cd248a",
   "metadata": {},
   "outputs": [],
   "source": []
  },
  {
   "cell_type": "code",
   "execution_count": 11,
   "id": "37d632f6",
   "metadata": {},
   "outputs": [
    {
     "data": {
      "text/plain": [
       "NN_model (generic function with 1 method)"
      ]
     },
     "execution_count": 11,
     "metadata": {},
     "output_type": "execute_result"
    }
   ],
   "source": [
    "NN_model(x)=inv_output_scaler(NN_mean(vecscaler(x)))"
   ]
  },
  {
   "cell_type": "code",
   "execution_count": 12,
   "id": "e9883559",
   "metadata": {},
   "outputs": [
    {
     "name": "stdout",
     "output_type": "stream",
     "text": [
      "mean_error = 0.17174466179743825\n",
      "std_error = 0.23802841893233032\n"
     ]
    }
   ],
   "source": [
    "#Estimate Percent Error between ANN model and mechanistic model\n",
    "#Must ignore first element because of divide by 0 error\n",
    "y_test_inv_scaled= inv_output_scaler(y_test)\n",
    "y_test_mod = inv_output_scaler(NN_mean(x_test))\n",
    "percent_diff(orig,new) = orig == 0 ? NaN : abs((orig-new)/orig)*100\n",
    "error_mat =percent_diff.(y_test_inv_scaled,y_test_mod)\n",
    "mean_error = mean(error_mat);\n",
    "std_error = std(error_mat);\n",
    "@show mean_error;\n",
    "@show std_error;"
   ]
  },
  {
   "cell_type": "code",
   "execution_count": 13,
   "id": "e116d3f1",
   "metadata": {},
   "outputs": [
    {
     "data": {
      "text/plain": [
       "1×300000 Matrix{Float64}:\n",
       " 0.199164  0.261983  0.394715  0.237995  …  0.282426  0.221185  0.209306"
      ]
     },
     "execution_count": 13,
     "metadata": {},
     "output_type": "execute_result"
    }
   ],
   "source": [
    "y_test_inv_scaled"
   ]
  },
  {
   "cell_type": "code",
   "execution_count": 14,
   "id": "a3adc73b",
   "metadata": {},
   "outputs": [
    {
     "data": {
      "text/plain": [
       "1×300000 Matrix{Float64}:\n",
       " 0.19779  0.262314  0.393517  0.237313  …  0.282288  0.221688  0.209433"
      ]
     },
     "execution_count": 14,
     "metadata": {},
     "output_type": "execute_result"
    }
   ],
   "source": [
    "y_test_mod"
   ]
  },
  {
   "cell_type": "code",
   "execution_count": 15,
   "id": "6ae78d64",
   "metadata": {},
   "outputs": [],
   "source": [
    "using BSON: @save\n",
    "@save \"P:\\\\TherapyDrugDesign\\\\cmeanEE3param.bson\" NN_mean"
   ]
  },
  {
   "cell_type": "code",
   "execution_count": 16,
   "id": "b2a76d06",
   "metadata": {},
   "outputs": [],
   "source": [
    "#=wb, re = Flux.destructure(NN_mean)\n",
    "w1 = reshape(wb[1:36], (12, 3))\n",
    "b1 = reshape(wb[37:48], (12, 1))\n",
    "w2 = reshape(wb[49:192], (12, 12))\n",
    "b2 = reshape(wb[193:204], (12, 1))\n",
    "w3 = reshape(wb[205:348], (12, 12))\n",
    "b3 = reshape(wb[349:360], (12, 1))\n",
    "w4 = reshape(wb[361:372], (1, 12))\n",
    "b4 = wb[373]\n",
    "W = w1, w2, w3, w4, b1, b2, b3, b4=#"
   ]
  }
 ],
 "metadata": {
  "kernelspec": {
   "display_name": "Julia 1.6.1",
   "language": "julia",
   "name": "julia-1.6"
  },
  "language_info": {
   "file_extension": ".jl",
   "mimetype": "application/julia",
   "name": "julia",
   "version": "1.6.1"
  }
 },
 "nbformat": 4,
 "nbformat_minor": 5
}
