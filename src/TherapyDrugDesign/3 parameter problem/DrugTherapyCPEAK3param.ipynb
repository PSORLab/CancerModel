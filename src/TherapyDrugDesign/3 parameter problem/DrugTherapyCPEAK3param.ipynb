{
 "cells": [
  {
   "cell_type": "code",
   "execution_count": 1,
   "id": "a64c3fbf",
   "metadata": {},
   "outputs": [],
   "source": [
    "using Surrogates,Flux,Statistics,DifferentialEquations,Plots,Suppressor,MLDataUtils"
   ]
  },
  {
   "cell_type": "code",
   "execution_count": 2,
   "id": "4db26800",
   "metadata": {},
   "outputs": [
    {
     "data": {
      "text/plain": [
       "3-element Vector{Float32}:\n",
       "  5.0f-6\n",
       "  5.0f-6\n",
       " 30.0"
      ]
     },
     "execution_count": 2,
     "metadata": {},
     "output_type": "execute_result"
    }
   ],
   "source": [
    "lb=Float32[5e-7,5e-7,5]\n",
    "ub=Float32[5e-6,5e-6,30]"
   ]
  },
  {
   "cell_type": "code",
   "execution_count": 3,
   "id": "130c23ca",
   "metadata": {},
   "outputs": [
    {
     "data": {
      "text/plain": [
       "inv_output_scaler (generic function with 1 method)"
      ]
     },
     "execution_count": 3,
     "metadata": {},
     "output_type": "execute_result"
    }
   ],
   "source": [
    "#Define scaler functions to preprocess data\n",
    "vecscaler(x)=(x.-lb)./(ub.-lb)\n",
    "scaler(x)= ((x[1]- lb[1])/(ub[1]-lb[1]),(x[2]- lb[2])/(ub[2]-lb[2]),(x[3]- lb[3])/(ub[3]-lb[3]))\n",
    "invscaler(x_sc)=(x_sc[1]*(ub[1]-lb[1]) + lb[1],x_sc[2]*(ub[2]-lb[2]) + lb[2],x_sc[3]*(ub[3]-lb[3]) + lb[3])\n",
    "output_scaler(x)= x ./ 2\n",
    "inv_output_scaler(x)=x.*2"
   ]
  },
  {
   "cell_type": "code",
   "execution_count": 4,
   "id": "6cd1e0f1",
   "metadata": {},
   "outputs": [
    {
     "data": {
      "text/plain": [
       "accum (generic function with 1 method)"
      ]
     },
     "execution_count": 4,
     "metadata": {},
     "output_type": "execute_result"
    }
   ],
   "source": [
    "function Diffusion(rs)\n",
    "    Diam_parc = 2*rs\n",
    "    return D = 1.981e-06*Diam_parc^(-1.157) + 2.221e-08\n",
    "end\n",
    "\n",
    "function Blood_half_life(rs)\n",
    "    Diam_parc = 2*rs\n",
    "    a1 = 1081\n",
    "    b1 = -16.63\n",
    "    c1 = 84.82\n",
    "    a2 = 517.4\n",
    "    b2 = 65.61\n",
    "    c2 = 996.6\n",
    "    return kd = (a1*exp(-((Diam_parc-b1)/c1)^2) + a2*exp(-((Diam_parc-b2)/c2)^2))*60\n",
    "end\n",
    "function Isolated_Pressure(N,R,Lpt,Svt,Kt,Pvv)\n",
    "\n",
    "    # Pressure Profile\n",
    "    att = R*sqrt(Lpt*Svt/Kt)\n",
    "\n",
    "    r = range(0,step = R/(N-1),length = N)\n",
    "    r = r/R\n",
    "    dr = 1.0/(N-1)\n",
    "    ivdr2 = 1.0./dr^2\n",
    "    att2 = att^2\n",
    "    A = zeros(typeof(Lpt),N,N)\n",
    "    F = zeros(typeof(Lpt),N,1)\n",
    "\n",
    "    M = N\n",
    "    for i in 2:M-1\n",
    "        A[i,i-1] = -1.0/r[i]/dr + ivdr2\n",
    "        A[i,i] = -2.0*ivdr2 - (att2)\n",
    "        A[i,i+1] = 1.0/r[i]/dr + ivdr2\n",
    "        F[i] = -(att2)*Pvv\n",
    "    end\n",
    "\n",
    "    # Boundary condtions for isolated tumor model\n",
    "    A[1,1] = -2.0/dr^2 - (att^2)\n",
    "    A[1,2] = 2.0/dr^2\n",
    "    F[1] = -att2*Pvv\n",
    "    A[N,N] = 1.0\n",
    "\n",
    "    # Solution of linear problem for pressure distribution\n",
    "    P = A\\F\n",
    "    return P\n",
    "end\n",
    "\n",
    "function Peclet(rs,N,R,Lpt,Svt,Kt,Pv,Pvv)\n",
    "    P = Isolated_Pressure(N,R,Lpt,Svt,Kt,Pvv)\n",
    "    Perm,sigma = solutePerm(Lpt,rs)\n",
    "    return Pe_set = Lpt .* Pv .* (Pvv.*ones(N) - P) .* (1 - sigma) ./ Perm\n",
    "end\n",
    "\n",
    "function MST_Form(t, c, P, N, sigma, Perm, Lpt, Svt, Kt, Pvv, Pv, D, r, dr, kd)\n",
    "    co = 1.0 # dimensionless drug concentration\n",
    "    tspan = 300.0 # length of simulation type\n",
    "\n",
    "    f = zeros(typeof(sigma), N)\n",
    "\n",
    "    cv = co * exp(-t / kd)  # vascular concentration of the drug following exponential decay\n",
    "\n",
    "    coeff1 = 2.0 * D / dr\n",
    "    coeff2 = D / dr^2\n",
    "\n",
    "    f[1] = 2.0*D*(c[2]-c[1])/dr^2 +\n",
    "    Lpt*Svt*Pv*(Pvv-P[1])*(1-sigma)*cv\n",
    "\n",
    "    #=\n",
    "    Pe = Lpt * Pv * (Pvv - P[1]) * (1 - sigma) / Perm\n",
    "    f[1] = 2 * D * (c[2] - c[1]) / dr^2 +\n",
    "        Lpt * Svt * Pv * (Pvv - P[1]) * (1 - sigma) * cv +\n",
    "        Perm * Svt * (cv - c[1]) * Pe / (exp(Pe) - 1.0)\n",
    "    =#\n",
    "    for j = 2:N-1\n",
    "        f[j] = (coeff1/r[j])*(c[j+1]-c[j]) + coeff2*(c[j+1]-2.0*c[j]+c[j-1]) +\n",
    "        Kt/(2*dr)*(P[j+1]-P[j-1])*((c[j+1]-c[j])/dr) +\n",
    "        Lpt*Svt*Pv*(Pvv-P[j])*(1-sigma)*cv\n",
    "\n",
    "        #=\n",
    "        Pe = Lpt * Pv * (Pvv - P[j]) * (1 - sigma) / Perm\n",
    "        f[j] = ((2 * D / r[j]) * ((c[j+1] - c[j]) / dr)) +\n",
    "            (D * (c[j+1] - 2 * c[j] + c[j-1]) / dr^2) +\n",
    "            Kt * ((P[j+1] - P[j-1]) / (2 * dr)) * ((c[j+1] - c[j]) / dr) +\n",
    "            Lpt * Svt * Pv * (Pvv - P[j]) * (1 - sigma) * cv +\n",
    "            Perm * Svt * (cv - c[j]) * Pe / (exp(Pe) - 1.0)\n",
    "        =#\n",
    "    end\n",
    "\n",
    "    f[N] = 0.0\n",
    "    return f\n",
    "end\n",
    "\n",
    "function EE_Form(x0,y0,h,n_out,i_out,P,N,sigma,Perm,Lpt,Svt,Kt,Pvv,Pv,D,r,dr,kd)\n",
    "      xout = zeros(Float64,n_out+1)\n",
    "      yout = zeros(typeof(sigma),n_out+1,length(y0))\n",
    "      xout[1] = x0\n",
    "      yout[1,:] = y0\n",
    "      x = x0\n",
    "      y = y0\n",
    "      for j = 2:n_out+1\n",
    "          for k = 1:i_out\n",
    "              y = y + h*MST_Form(x,y,P,N,sigma,Perm,Lpt,Svt,Kt,Pvv,Pv,D,r,dr,kd)\n",
    "              x = x + h\n",
    "          end\n",
    "          xout[j] = x\n",
    "          yout[j,:] = y\n",
    "      end\n",
    "      return xout, yout\n",
    "end\n",
    "\n",
    "\n",
    "function Isolated_Model_Form(N,Kt,Lpt,Svt,R,Pv,Pvv,n_nodes,rs)\n",
    "\n",
    "    #r = Vector(linspace(0,R,N))\n",
    "    r = range(0,step = R/(N-1),length = N)\n",
    "    r = r/R\n",
    "    dr = 1.0/(N-1)\n",
    "\n",
    "    # Solution of steady state pressure model\n",
    "    P = Isolated_Pressure(N,R,Lpt,Svt,Kt,Pvv)\n",
    "    Perm,sigma = solutePerm(Lpt,rs)\n",
    "    D = Diffusion(rs)\n",
    "    kd = Blood_half_life(rs)\n",
    "\n",
    "    # Initial solute concentration\n",
    "    c_0 = zeros(typeof(rs),N)\n",
    "\n",
    "    t0 = 0.0\n",
    "    tf = 300.0 # length of simulation (seconds)\n",
    "    n_out = n_nodes - 1\n",
    "    h = (tf - t0)/n_out;\n",
    "    i_out = 1\n",
    "\n",
    "    time, c = EE_Form(t0,c_0,h,n_out,i_out,P,N,sigma,Perm,Lpt,Svt,Kt,Pvv,Pv,D,r,dr,kd)\n",
    "    return time, c\n",
    "end\n",
    "\n",
    "function solutePerm(Lpt,rs)\n",
    "    # calculate diffusion coefficient from Stoke's Einstein\n",
    "    kB = 1.380648*10.0^(-23)               # Boltzmann Constant (J/K)\n",
    "    Temp = 310.15                           # Temperature K\n",
    "    eta = 3*10.0^(-5)                      # viscosity of blood (mmHg-sec)\n",
    "    conv_mu  = 133.322365                # (Pascal/mmHg)\n",
    "    etac = eta*conv_mu                   # Pascal-sec\n",
    "    pore_conv = 10.0^(-9)                  # (m/nm)\n",
    "    r_partc = rs*pore_conv               # radius (m)\n",
    "    D0 = kB*Temp/(6*pi*etac*r_partc)*1.0e4;   # Diffusivity (cm^2/s)\n",
    "\n",
    "    # Bungay and Brenner\n",
    "    a = [-73/60,77293/50400,-22.5083,-5.6117,-0.3363,-1.216,1.647]\n",
    "    b = [7/60;-2227/50400;4.0180;-3.9788;-1.9215;4.392;5.006]\n",
    "\n",
    "    # Calculate the pore size\n",
    "    gamma = 1.0e-3\n",
    "    eta = 3.0e-5                              # Blood viscosity (mmHg/s)\n",
    "    L = 5.0e-4                                # Vessel wall thickness (cm)\n",
    "    r_pore::typeof(rs) = sqrt(8*eta*L*Lpt/gamma)*1.0e7    # nm\n",
    "    # rs = 30;                              # solute radius (nm) 30nm for FITC\n",
    "    lambda = rs/r_pore\n",
    "    t1 = zero(typeof(rs))\n",
    "    t2 = zero(typeof(rs))\n",
    "    p1 = zero(typeof(rs))\n",
    "    p2 = zero(typeof(rs))\n",
    "    for i = 1:7\n",
    "        if i<3\n",
    "            t1 = t1 + a[i]*(1-lambda)^i\n",
    "            p1 = p1 + b[i]*(1-lambda)^i\n",
    "        else\n",
    "            t2 = t2 + a[i]*lambda^(i-3)\n",
    "            p2 = p2 + b[i]*lambda^(i-3)\n",
    "        end\n",
    "    end\n",
    "    Kt = t2 + 9.0/4.0*pi^2*sqrt(2.0)*(1.0+t1)*sqrt(1.0-lambda)^(-5)\n",
    "    Ks = p2 + 9.0/4.0*pi^2*sqrt(2.0)*(1.0+p1)*sqrt(1.0-lambda)^(-5)\n",
    "    Phi = (1.0-lambda)^2\n",
    "    H = 6.0*pi*Phi/Kt\n",
    "    W = Phi*(2.0-Phi)*Ks/(2.0*Kt)\n",
    "    Perm = gamma*H*D0/L\n",
    "    sigma = 1.0 - W\n",
    "    return Perm,sigma\n",
    "end\n",
    "\n",
    "N = 100\n",
    "n_nodes = 21\n",
    "\n",
    "Svt = 200.0                # tumor vascular density\n",
    "R = 1.0                    # tumor radius (cm)\n",
    "Pv = 25.0                  # vascular pressure (mmHg)\n",
    "Pvv = 1.0                  # vascu\n",
    "PA=N,Svt,R,Pv,Pvv,n_nodes\n",
    "function peak(x,param)\n",
    "    Lpt,Kt,rs=x\n",
    "    N,Svt,R,Pv,Pvv,n_nodes=param\n",
    "    tout,cout = Isolated_Model_Form(N,Kt,Lpt,Svt,R,Pv,Pvv,n_nodes,rs)\n",
    "    cf = cout[convert(Int,round(n_nodes)),:]\n",
    "    cpeak = cf[99]\n",
    "    return cpeak\n",
    "end\n",
    "\n",
    "cpeak(x)=peak(x,PA)\n",
    "accum(x) =  output_scaler(cpeak(invscaler(x)))"
   ]
  },
  {
   "cell_type": "code",
   "execution_count": 5,
   "id": "08daa00d",
   "metadata": {},
   "outputs": [],
   "source": [
    "#Specify number of samples to generate and perform 70:30 split for data generation\n",
    "n_samp=Int64(1e6);\n",
    "n_train =Int64(n_samp*.7);\n",
    "n_test = Int64(n_samp*.3);"
   ]
  },
  {
   "cell_type": "code",
   "execution_count": 6,
   "id": "44c877c1",
   "metadata": {},
   "outputs": [],
   "source": [
    "#Create Data Sets\n",
    "X=Float32.(reshape([x[j] for x in scaler.(sample(n_samp, lb,ub, SobolSample())) for j in eachindex(x)],(3,n_samp)));\n",
    "Y=reshape([Float32.(y[j]) for y in [accum(col) for col in eachcol(X)] for j in eachindex(y)],(1,n_samp));"
   ]
  },
  {
   "cell_type": "code",
   "execution_count": 7,
   "id": "19f2b4c0",
   "metadata": {},
   "outputs": [],
   "source": [
    "#Shuffle and Split data;\n",
    "Xs,Ys=shuffleobs((X, Y));\n",
    "(x_train, y_train), (x_test, y_test) = splitobs((Xs, Ys); at = 0.7);\n",
    "#package data\n",
    "using Flux.Data: DataLoader\n",
    "bsize = n_train ÷ 10\n",
    "data_mb = DataLoader((x_train,y_train),batchsize=bsize,shuffle=true);\n",
    "data = DataLoader((x_train,y_train));"
   ]
  },
  {
   "cell_type": "code",
   "execution_count": 8,
   "id": "b280a4be",
   "metadata": {},
   "outputs": [],
   "source": [
    "#Specify Neural Network Structure\n",
    "n=12\n",
    "activation_func=Flux.tanh\n",
    "NN_peak = Chain(Dense(3,n),Dense(n,n,activation_func),Dense(n,n,activation_func),Dense(n,1))\n",
    "loss(x,y) = Flux.mse(NN_peak(x),y)\n",
    "learning_rate = 1e-4\n",
    "optimizer = ADAM(learning_rate)\n",
    "n_epochs = 50;\n",
    "ps = Flux.params(NN_peak);\n",
    "ϵ=1e-7;"
   ]
  },
  {
   "cell_type": "code",
   "execution_count": 9,
   "id": "b6ba9210",
   "metadata": {},
   "outputs": [
    {
     "name": "stdout",
     "output_type": "stream",
     "text": [
      "loss(x_train, y_train) = 4.5281497f-5\n",
      "i = 1\n",
      "l = 2.9093086f-5\n",
      "i = 2\n",
      "l = 2.0387159f-5\n",
      "i = 3\n",
      "l = 1.8554107f-5\n",
      "i = 4\n",
      "l = 1.7847806f-5\n",
      "i = 5\n",
      "l = 1.7394805f-5\n",
      "i = 6\n",
      "l = 1.7119226f-5\n",
      "i = 7\n",
      "l = 1.6998529f-5\n",
      "i = 8\n",
      "l = 1.6930302f-5\n",
      "i = 9\n",
      "l = 1.687989f-5\n",
      "i = 10\n",
      "l = 1.6843791f-5\n",
      "i = 11\n",
      "l = 1.6816724f-5\n",
      "i = 12\n",
      "l = 1.6794873f-5\n",
      "i = 13\n",
      "l = 1.6776572f-5\n",
      "i = 14\n",
      "l = 1.6760707f-5\n",
      "i = 15\n",
      "l = 1.6746679f-5\n",
      "i = 16\n",
      "l = 1.6733991f-5\n",
      "i = 17\n",
      "l = 1.6722466f-5\n",
      "i = 18\n",
      "l = 1.6711678f-5\n",
      "i = 19\n",
      "l = 1.6701639f-5\n",
      "i = 20\n",
      "l = 1.6692135f-5\n",
      "i = 21\n",
      "l = 1.6683203f-5\n",
      "i = 22\n",
      "l = 1.6674674f-5\n",
      "i = 23\n",
      "l = 1.6666418f-5\n",
      "i = 24\n",
      "l = 1.665855f-5\n",
      "i = 25\n",
      "l = 1.6650947f-5\n",
      "i = 26\n",
      "l = 1.6643686f-5\n",
      "i = 27\n",
      "l = 1.6636777f-5\n",
      "i = 28\n",
      "l = 1.6629954f-5\n",
      "i = 29\n",
      "l = 1.66232f-5\n",
      "i = 30\n",
      "l = 1.6616974f-5\n",
      "i = 31\n",
      "l = 1.661084f-5\n",
      "i = 32\n",
      "l = 1.6604798f-5\n",
      "i = 33\n",
      "l = 1.6599035f-5\n",
      "i = 34\n",
      "l = 1.6593382f-5\n",
      "i = 35\n",
      "l = 1.658801f-5\n",
      "i = 36\n",
      "l = 1.6582731f-5\n",
      "i = 37\n",
      "l = 1.6577671f-5\n",
      "i = 38\n",
      "l = 1.6572598f-5\n",
      "i = 39\n",
      "l = 1.6567772f-5\n",
      "i = 40\n",
      "l = 1.6563177f-5\n",
      "i = 41\n",
      "l = 1.655865f-5\n",
      "i = 42\n",
      "l = 1.6554159f-5\n",
      "i = 43\n",
      "l = 1.6549877f-5\n",
      "i = 44\n",
      "l = 1.6545875f-5\n",
      "i = 45\n",
      "l = 1.6541795f-5\n",
      "i = 46\n",
      "l = 1.653755f-5\n",
      "i = 47\n",
      "l = 1.653373f-5\n",
      "i = 48\n",
      "l = 1.6529917f-5\n",
      "i = 49\n",
      "l = 1.6526325f-5\n",
      "i = 50\n",
      "l = 1.6522705f-5\n"
     ]
    }
   ],
   "source": [
    "Flux.train!(loss, ps, data, optimizer)\n",
    "Flux.train!(loss, ps, data, optimizer)\n",
    "@show loss(x_train,y_train)\n",
    "\n",
    "for i=1:n_epochs\n",
    "    Flux.train!(loss, ps, data_mb, optimizer)\n",
    "    #Flux.train!(loss, ps, data, optimizer)\n",
    "    l=loss(x_train,y_train)\n",
    "    #epoch_l[i]=l\n",
    "    @show(i,l)\n",
    "    if l < ϵ\n",
    "        break\n",
    "    end\n",
    "end"
   ]
  },
  {
   "cell_type": "code",
   "execution_count": 10,
   "id": "dfa9f6f8",
   "metadata": {},
   "outputs": [
    {
     "name": "stdout",
     "output_type": "stream",
     "text": [
      "loss(x_test, y_test) = 1.6527321f-5\n"
     ]
    },
    {
     "data": {
      "text/plain": [
       "1.6527321f-5"
      ]
     },
     "execution_count": 10,
     "metadata": {},
     "output_type": "execute_result"
    }
   ],
   "source": [
    "@show loss(x_test,y_test)"
   ]
  },
  {
   "cell_type": "code",
   "execution_count": 11,
   "id": "2cfd8f92",
   "metadata": {},
   "outputs": [
    {
     "data": {
      "text/plain": [
       "NN_model (generic function with 1 method)"
      ]
     },
     "execution_count": 11,
     "metadata": {},
     "output_type": "execute_result"
    }
   ],
   "source": [
    "NN_model(x)=inv_output_scaler(NN_peak(vecscaler(x)))"
   ]
  },
  {
   "cell_type": "code",
   "execution_count": 12,
   "id": "507cf26c",
   "metadata": {},
   "outputs": [
    {
     "name": "stdout",
     "output_type": "stream",
     "text": [
      "mean_error = 0.23197636f0\n",
      "std_error = 0.4628321f0\n"
     ]
    }
   ],
   "source": [
    "#Estimate Percent Error between ANN model and mechanistic model\n",
    "#Must ignore first element because of divide by 0 error\n",
    "y_test_inv_scaled= inv_output_scaler(y_test)\n",
    "y_test_mod = inv_output_scaler(NN_peak(x_test))\n",
    "percent_diff(orig,new) = orig == 0 ? NaN : abs((orig-new)/orig)*100\n",
    "error_mat =percent_diff.(y_test_inv_scaled,y_test_mod)\n",
    "mean_error = mean(error_mat);\n",
    "std_error = std(error_mat);\n",
    "@show mean_error;\n",
    "@show std_error;"
   ]
  },
  {
   "cell_type": "code",
   "execution_count": 13,
   "id": "aa327f0a",
   "metadata": {},
   "outputs": [],
   "source": [
    "using BSON: @save\n",
    "@save \"P:\\\\TherapyDrugDesign\\\\cpeakEE3param.bson\" NN_peak"
   ]
  }
 ],
 "metadata": {
  "kernelspec": {
   "display_name": "Julia 1.6.1",
   "language": "julia",
   "name": "julia-1.6"
  },
  "language_info": {
   "file_extension": ".jl",
   "mimetype": "application/julia",
   "name": "julia",
   "version": "1.6.1"
  }
 },
 "nbformat": 4,
 "nbformat_minor": 5
}
